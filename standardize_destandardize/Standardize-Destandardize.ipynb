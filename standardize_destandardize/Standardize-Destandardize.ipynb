{
 "cells": [
  {
   "cell_type": "code",
   "execution_count": 1,
   "metadata": {
    "collapsed": true
   },
   "outputs": [],
   "source": [
    "import numpy as np\n",
    "from sklearn.preprocessing import StandardScaler"
   ]
  },
  {
   "cell_type": "code",
   "execution_count": 13,
   "metadata": {},
   "outputs": [
    {
     "data": {
      "text/plain": [
       "array([[ 23.09465332,   9.37271555,   2.49990726],\n",
       "       [  0.90646725,   0.13965637,   1.5442003 ],\n",
       "       [  9.53730835,  29.92871677,   3.57465573],\n",
       "       [ 15.44032183,   8.37597913,   7.09736596],\n",
       "       [ 19.80368442,  12.68144182,   9.47338561],\n",
       "       [ 11.17772945,   6.38714782,  10.74875059],\n",
       "       [  8.02546952,   6.1393666 ,   3.47383203],\n",
       "       [  2.04319472,   1.03307387,  15.73662193],\n",
       "       [ 16.45328545,   9.98345185,  15.40181823],\n",
       "       [ 12.42381646,  24.40808429,   3.80433254]])"
      ]
     },
     "execution_count": 13,
     "metadata": {},
     "output_type": "execute_result"
    }
   ],
   "source": [
    "original_data = np.random.exponential(size=[10,3],scale=10.0)\n",
    "original_data"
   ]
  },
  {
   "cell_type": "code",
   "execution_count": 18,
   "metadata": {},
   "outputs": [
    {
     "data": {
      "text/plain": [
       "(array([ 11.89059308,  10.84496341,   7.33548702]),\n",
       " array([ 6.78571015,  9.01896712,  5.00369427]))"
      ]
     },
     "execution_count": 18,
     "metadata": {},
     "output_type": "execute_result"
    }
   ],
   "source": [
    "standardizer = StandardScaler().fit(original_data)\n",
    "standardizer.mean_,standardizer.scale_"
   ]
  },
  {
   "cell_type": "code",
   "execution_count": 20,
   "metadata": {},
   "outputs": [
    {
     "data": {
      "text/plain": [
       "array([[ 1.65112567, -0.16323908, -0.96640192],\n",
       "       [-1.61871427, -1.18697706, -1.15740219],\n",
       "       [-0.34680007,  2.11595775, -0.75161093],\n",
       "       [ 0.52311824, -0.27375466, -0.04758905],\n",
       "       [ 1.16614049,  0.20362403,  0.42726403],\n",
       "       [-0.10505365, -0.49427119,  0.68214871],\n",
       "       [-0.5695975 , -0.52174454, -0.77176078],\n",
       "       [-1.45119643, -1.08791721,  1.67898646],\n",
       "       [ 0.67239718, -0.0955222 ,  1.61207515],\n",
       "       [ 0.07858034,  1.50384414, -0.70570948]])"
      ]
     },
     "execution_count": 20,
     "metadata": {},
     "output_type": "execute_result"
    }
   ],
   "source": [
    "std_data = standardizer.transform(original_data)\n",
    "std_data"
   ]
  },
  {
   "cell_type": "code",
   "execution_count": 21,
   "metadata": {},
   "outputs": [
    {
     "data": {
      "text/plain": [
       "array([[ 23.09465332,   9.37271555,   2.49990726],\n",
       "       [  0.90646725,   0.13965637,   1.5442003 ],\n",
       "       [  9.53730835,  29.92871677,   3.57465573],\n",
       "       [ 15.44032183,   8.37597913,   7.09736596],\n",
       "       [ 19.80368442,  12.68144182,   9.47338561],\n",
       "       [ 11.17772945,   6.38714782,  10.74875059],\n",
       "       [  8.02546952,   6.1393666 ,   3.47383203],\n",
       "       [  2.04319472,   1.03307387,  15.73662193],\n",
       "       [ 16.45328545,   9.98345185,  15.40181823],\n",
       "       [ 12.42381646,  24.40808429,   3.80433254]])"
      ]
     },
     "execution_count": 21,
     "metadata": {},
     "output_type": "execute_result"
    }
   ],
   "source": [
    "original_data_destandarized = standardizer.inverse_transform(std_data)\n",
    "original_data_destandarized"
   ]
  }
 ],
 "metadata": {
  "kernelspec": {
   "display_name": "Python 3",
   "language": "python",
   "name": "python3"
  },
  "language_info": {
   "codemirror_mode": {
    "name": "ipython",
    "version": 3
   },
   "file_extension": ".py",
   "mimetype": "text/x-python",
   "name": "python",
   "nbconvert_exporter": "python",
   "pygments_lexer": "ipython3",
   "version": "3.5.3"
  }
 },
 "nbformat": 4,
 "nbformat_minor": 2
}
